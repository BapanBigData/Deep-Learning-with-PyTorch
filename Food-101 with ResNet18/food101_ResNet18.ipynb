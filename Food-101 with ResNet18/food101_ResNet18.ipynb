{
 "cells": [
  {
   "cell_type": "code",
   "execution_count": 16,
   "metadata": {},
   "outputs": [],
   "source": [
    "import os\n",
    "import tarfile\n",
    "import requests\n",
    "import shutil\n",
    "from tqdm import tqdm\n",
    "import torch\n",
    "from torchvision import datasets, transforms\n",
    "from torch.utils.data import DataLoader, Subset\n",
    "from random import sample\n",
    "import matplotlib.pyplot as plt\n",
    "\n",
    "%matplotlib inline"
   ]
  },
  {
   "cell_type": "code",
   "execution_count": 8,
   "metadata": {},
   "outputs": [],
   "source": [
    "def download_food101(dataset_url, target_path):\n",
    "    \"\"\"\n",
    "    Downloads the Food-101 dataset.\n",
    "    \"\"\"\n",
    "    os.makedirs(target_path, exist_ok=True)\n",
    "    file_path = os.path.join(target_path, \"food-101.tar.gz\")\n",
    "\n",
    "    if not os.path.exists(file_path):\n",
    "        print(f\"Downloading Food-101 dataset to {file_path}...\")\n",
    "        response = requests.get(dataset_url, stream=True)\n",
    "        total_size = int(response.headers.get('content-length', 0))\n",
    "        with open(file_path, 'wb') as f, tqdm(\n",
    "                desc=\"Downloading\",\n",
    "                total=total_size,\n",
    "                unit='B',\n",
    "                unit_scale=True,\n",
    "                unit_divisor=1024,\n",
    "        ) as bar:\n",
    "            for data in response.iter_content(chunk_size=1024):\n",
    "                f.write(data)\n",
    "                bar.update(len(data))\n",
    "\n",
    "    print(\"Download complete!\")\n",
    "    return file_path\n",
    "\n",
    "\n",
    "def extract_food101(file_path, extract_to):\n",
    "    \"\"\"\n",
    "    Extracts the Food-101 dataset.\n",
    "    \"\"\"\n",
    "    print(f\"Extracting {file_path} to {extract_to}...\")\n",
    "    with tarfile.open(file_path, \"r:gz\") as tar:\n",
    "        tar.extractall(path=extract_to)\n",
    "    print(\"Extraction complete!\")\n",
    "\n",
    "\n",
    "\n",
    "def select_data_subset(split_file, source_dir, target_dir, selected_classes, images_per_class=None):\n",
    "    \"\"\"\n",
    "    Select specific classes and copy their images to a new directory for train/test splits.\n",
    "    \"\"\"\n",
    "    os.makedirs(target_dir, exist_ok=True)\n",
    "\n",
    "    # Read the split file (train.txt or test.txt)\n",
    "    with open(split_file, 'r') as f:\n",
    "        all_images = f.read().splitlines()\n",
    "\n",
    "    # Filter images for the selected classes\n",
    "    class_images = {cls: [] for cls in selected_classes}\n",
    "    for img in all_images:\n",
    "        cls = img.split('/')[0]\n",
    "        if cls in selected_classes:\n",
    "            class_images[cls].append(img)\n",
    "\n",
    "    # Copy images for each selected class\n",
    "    for cls, images in class_images.items():\n",
    "        tgt_class_path = os.path.join(target_dir, cls)\n",
    "        os.makedirs(tgt_class_path, exist_ok=True)\n",
    "\n",
    "        if images_per_class:\n",
    "            images = sample(images, images_per_class)\n",
    "\n",
    "        for img in images:\n",
    "            src_path = os.path.join(source_dir, f\"{img}.jpg\")\n",
    "            tgt_path = os.path.join(tgt_class_path, os.path.basename(img) + \".jpg\")\n",
    "            shutil.copy(src_path, tgt_path)"
   ]
  },
  {
   "cell_type": "code",
   "execution_count": 5,
   "metadata": {},
   "outputs": [
    {
     "name": "stdout",
     "output_type": "stream",
     "text": [
      "Downloading Food-101 dataset to data101/food-101\\food-101.tar.gz...\n"
     ]
    },
    {
     "name": "stderr",
     "output_type": "stream",
     "text": [
      "Downloading: 100%|██████████| 4.65G/4.65G [1:21:39<00:00, 1.02MB/s] \n"
     ]
    },
    {
     "name": "stdout",
     "output_type": "stream",
     "text": [
      "Download complete!\n",
      "Extracting data101/food-101\\food-101.tar.gz to data101/food-101...\n",
      "Extraction complete!\n"
     ]
    }
   ],
   "source": [
    "# Step 1: Download and Extract the Dataset\n",
    "dataset_url = \"http://data.vision.ee.ethz.ch/cvl/food-101.tar.gz\"\n",
    "dataset_path = \"data101/food-101\"\n",
    "\n",
    "# Download and extract\n",
    "food101_archive = download_food101(dataset_url, dataset_path)\n",
    "extract_food101(food101_archive, dataset_path)"
   ]
  },
  {
   "cell_type": "code",
   "execution_count": 10,
   "metadata": {},
   "outputs": [],
   "source": [
    "# Step 2: Subset the Dataset for Training and Testing\n",
    "source_data_dir = os.path.join(dataset_path, \"food-101\", \"images\")\n",
    "train_split_file = os.path.join(dataset_path, \"food-101\", \"meta\", \"train.txt\")\n",
    "test_split_file = os.path.join(dataset_path, \"food-101\", \"meta\", \"test.txt\")\n",
    "\n",
    "subset_data_dir = \"data10/food-101-10classes\"\n",
    "\n",
    "# Choose 10 classes\n",
    "selected_classes = [\n",
    "    \"carrot_cake\", \"chocolate_cake\", \"sushi\", \"chicken_wings\", \"hot_dog\", \n",
    "    \"fried_rice\", \"greek_salad\", \"fish_and_chips\", \"samosa\", \"ice_cream\"\n",
    "]\n",
    "\n",
    "# Select data for training (750 images/class by default in Food-101)\n",
    "select_data_subset(train_split_file, source_data_dir, os.path.join(subset_data_dir, \"train\"), selected_classes)\n",
    "\n",
    "# Select data for testing (250 images/class by default in Food-101)\n",
    "select_data_subset(test_split_file, source_data_dir, os.path.join(subset_data_dir, \"test\"), selected_classes)"
   ]
  },
  {
   "cell_type": "code",
   "execution_count": 11,
   "metadata": {},
   "outputs": [],
   "source": [
    "from torch.utils.data import DataLoader\n",
    "import torchvision\n",
    "from torchvision import datasets, transforms"
   ]
  },
  {
   "cell_type": "code",
   "execution_count": 12,
   "metadata": {},
   "outputs": [],
   "source": [
    "# data augmentation\n",
    "# create a train transformation\n",
    "\n",
    "train_transform = transforms.Compose([\n",
    "    # resize the image to 256X256\n",
    "    transforms.Resize(size=(256, 256)),\n",
    "    \n",
    "    # flip the image randomly on the horizontal axis\n",
    "    #transforms.RandomHorizontalFlip(p=0.5),\n",
    "    \n",
    "    #transforms.RandomRotation(10),\n",
    "    # #transforms.RandomResizedCrop(64, scale=(0.8, 1.0)),\n",
    "    transforms.ColorJitter(brightness=0.1, contrast=0.1),\n",
    "    \n",
    "    # turn the image into torch.Tensor\n",
    "    transforms.ToTensor()\n",
    "])\n",
    "\n",
    "\n",
    "test_transform = transforms.Compose([\n",
    "    # resize the image to 256X256\n",
    "    transforms.Resize(size=(256, 256)),\n",
    "    \n",
    "    # turn the image into torch.Tensor\n",
    "    transforms.ToTensor()\n",
    "])"
   ]
  },
  {
   "cell_type": "code",
   "execution_count": 13,
   "metadata": {},
   "outputs": [],
   "source": [
    "train_dataset = datasets.ImageFolder(root=os.path.join(subset_data_dir, \"train\"), \n",
    "                                    transform=train_transform)\n",
    "\n",
    "test_dataset = datasets.ImageFolder(root=os.path.join(subset_data_dir, \"test\"), \n",
    "                                    transform=test_transform)"
   ]
  },
  {
   "cell_type": "code",
   "execution_count": 36,
   "metadata": {},
   "outputs": [
    {
     "data": {
      "text/plain": [
       "(7500, 2500)"
      ]
     },
     "execution_count": 36,
     "metadata": {},
     "output_type": "execute_result"
    }
   ],
   "source": [
    "len(train_dataset), len(test_dataset)"
   ]
  },
  {
   "cell_type": "code",
   "execution_count": 14,
   "metadata": {},
   "outputs": [],
   "source": [
    "BATCH_SIZE = 32\n",
    "\n",
    "train_loader = DataLoader(train_dataset, batch_size=BATCH_SIZE, shuffle=True)\n",
    "test_loader = DataLoader(test_dataset, batch_size=BATCH_SIZE, shuffle=False)"
   ]
  },
  {
   "cell_type": "code",
   "execution_count": 17,
   "metadata": {},
   "outputs": [
    {
     "data": {
      "text/plain": [
       "'cuda'"
      ]
     },
     "execution_count": 17,
     "metadata": {},
     "output_type": "execute_result"
    }
   ],
   "source": [
    "# setup the device agnostic code\n",
    "device = \"cuda\" if torch.cuda.is_available() else \"cpu\"\n",
    "device"
   ]
  },
  {
   "cell_type": "code",
   "execution_count": 19,
   "metadata": {},
   "outputs": [
    {
     "data": {
      "text/plain": [
       "['carrot_cake',\n",
       " 'chicken_wings',\n",
       " 'chocolate_cake',\n",
       " 'fish_and_chips',\n",
       " 'fried_rice',\n",
       " 'greek_salad',\n",
       " 'hot_dog',\n",
       " 'ice_cream',\n",
       " 'samosa',\n",
       " 'sushi']"
      ]
     },
     "execution_count": 19,
     "metadata": {},
     "output_type": "execute_result"
    }
   ],
   "source": [
    "train_dataset.classes"
   ]
  },
  {
   "cell_type": "code",
   "execution_count": 20,
   "metadata": {},
   "outputs": [
    {
     "data": {
      "text/plain": [
       "(235, 79)"
      ]
     },
     "execution_count": 20,
     "metadata": {},
     "output_type": "execute_result"
    }
   ],
   "source": [
    "len(train_loader), len(test_loader)"
   ]
  },
  {
   "cell_type": "code",
   "execution_count": 21,
   "metadata": {},
   "outputs": [],
   "source": [
    "import torch\n",
    "import torch.nn as nn\n",
    "import torchvision.models as models\n",
    "from torchvision.models import ResNet18_Weights"
   ]
  },
  {
   "cell_type": "code",
   "execution_count": null,
   "metadata": {},
   "outputs": [],
   "source": [
    "\n",
    "class FoodModel(nn.Module):\n",
    "    def __init__(self, output_classes, *args, **kwargs):\n",
    "        super().__init__(*args, **kwargs)\n",
    "\n",
    "        # Load the pretrained ResNet18 model\n",
    "        # self.base_model = models.resnet18(pretrained=True) -> deprecated \n",
    "        self.base_model = models.resnet18(weights=ResNet18_Weights.IMAGENET1K_V1)  # Updated to use weights\n",
    "        \n",
    "        # Remove the fully connected layer from ResNet18\n",
    "        self.base_model = nn.Sequential(*list(self.base_model.children())[:-2])  # Keep the spatial dimensions (8x8)\n",
    "\n",
    "        for param in self.base_model.parameters():\n",
    "            param.requires_grad = True\n",
    "\n",
    "        # Custom convolutional layers\n",
    "        self.custom_layers = nn.Sequential(\n",
    "            nn.Conv2d(512, 512, kernel_size=3, padding=1),  # Conv1-512\n",
    "            nn.ReLU(),\n",
    "            nn.Conv2d(512, 32, kernel_size=3, padding=1),   # Conv2-32\n",
    "            nn.ReLU(),\n",
    "            nn.Conv2d(32, 6, kernel_size=3, padding=1),     # Conv3-6\n",
    "            nn.ReLU()\n",
    "        )\n",
    "\n",
    "        # Fully connected layer\n",
    "        self.flatten = nn.Flatten()\n",
    "        # Dynamically calculate the input size to the fully connected layer\n",
    "        self.fc = nn.Linear(6 * 8 * 8, output_classes)\n",
    "\n",
    "    def forward(self, x):\n",
    "        x = self.base_model(x)  # Pass through ResNet18 (Output: [B, 512, 8, 8])\n",
    "        x = self.custom_layers(x)  # Pass through custom conv layers (Output: [B, 6, 8, 8])\n",
    "        x = self.flatten(x)  # Flatten (Output: [B, 6 * 8 * 8])\n",
    "        x = self.fc(x)  # Fully connected layer (Output: [B, output_classes])\n",
    "        return x"
   ]
  },
  {
   "cell_type": "code",
   "execution_count": 28,
   "metadata": {},
   "outputs": [],
   "source": [
    "model = FoodModel(\n",
    "    output_classes=len(train_dataset.classes)\n",
    ").to(device)"
   ]
  },
  {
   "cell_type": "code",
   "execution_count": 29,
   "metadata": {},
   "outputs": [
    {
     "name": "stdout",
     "output_type": "stream",
     "text": [
      "----------------------------------------------------------------\n",
      "        Layer (type)               Output Shape         Param #\n",
      "================================================================\n",
      "            Conv2d-1         [-1, 64, 128, 128]           9,408\n",
      "       BatchNorm2d-2         [-1, 64, 128, 128]             128\n",
      "              ReLU-3         [-1, 64, 128, 128]               0\n",
      "         MaxPool2d-4           [-1, 64, 64, 64]               0\n",
      "            Conv2d-5           [-1, 64, 64, 64]          36,864\n",
      "       BatchNorm2d-6           [-1, 64, 64, 64]             128\n",
      "              ReLU-7           [-1, 64, 64, 64]               0\n",
      "            Conv2d-8           [-1, 64, 64, 64]          36,864\n",
      "       BatchNorm2d-9           [-1, 64, 64, 64]             128\n",
      "             ReLU-10           [-1, 64, 64, 64]               0\n",
      "       BasicBlock-11           [-1, 64, 64, 64]               0\n",
      "           Conv2d-12           [-1, 64, 64, 64]          36,864\n",
      "      BatchNorm2d-13           [-1, 64, 64, 64]             128\n",
      "             ReLU-14           [-1, 64, 64, 64]               0\n",
      "           Conv2d-15           [-1, 64, 64, 64]          36,864\n",
      "      BatchNorm2d-16           [-1, 64, 64, 64]             128\n",
      "             ReLU-17           [-1, 64, 64, 64]               0\n",
      "       BasicBlock-18           [-1, 64, 64, 64]               0\n",
      "           Conv2d-19          [-1, 128, 32, 32]          73,728\n",
      "      BatchNorm2d-20          [-1, 128, 32, 32]             256\n",
      "             ReLU-21          [-1, 128, 32, 32]               0\n",
      "           Conv2d-22          [-1, 128, 32, 32]         147,456\n",
      "      BatchNorm2d-23          [-1, 128, 32, 32]             256\n",
      "           Conv2d-24          [-1, 128, 32, 32]           8,192\n",
      "      BatchNorm2d-25          [-1, 128, 32, 32]             256\n",
      "             ReLU-26          [-1, 128, 32, 32]               0\n",
      "       BasicBlock-27          [-1, 128, 32, 32]               0\n",
      "           Conv2d-28          [-1, 128, 32, 32]         147,456\n",
      "      BatchNorm2d-29          [-1, 128, 32, 32]             256\n",
      "             ReLU-30          [-1, 128, 32, 32]               0\n",
      "           Conv2d-31          [-1, 128, 32, 32]         147,456\n",
      "      BatchNorm2d-32          [-1, 128, 32, 32]             256\n",
      "             ReLU-33          [-1, 128, 32, 32]               0\n",
      "       BasicBlock-34          [-1, 128, 32, 32]               0\n",
      "           Conv2d-35          [-1, 256, 16, 16]         294,912\n",
      "      BatchNorm2d-36          [-1, 256, 16, 16]             512\n",
      "             ReLU-37          [-1, 256, 16, 16]               0\n",
      "           Conv2d-38          [-1, 256, 16, 16]         589,824\n",
      "      BatchNorm2d-39          [-1, 256, 16, 16]             512\n",
      "           Conv2d-40          [-1, 256, 16, 16]          32,768\n",
      "      BatchNorm2d-41          [-1, 256, 16, 16]             512\n",
      "             ReLU-42          [-1, 256, 16, 16]               0\n",
      "       BasicBlock-43          [-1, 256, 16, 16]               0\n",
      "           Conv2d-44          [-1, 256, 16, 16]         589,824\n",
      "      BatchNorm2d-45          [-1, 256, 16, 16]             512\n",
      "             ReLU-46          [-1, 256, 16, 16]               0\n",
      "           Conv2d-47          [-1, 256, 16, 16]         589,824\n",
      "      BatchNorm2d-48          [-1, 256, 16, 16]             512\n",
      "             ReLU-49          [-1, 256, 16, 16]               0\n",
      "       BasicBlock-50          [-1, 256, 16, 16]               0\n",
      "           Conv2d-51            [-1, 512, 8, 8]       1,179,648\n",
      "      BatchNorm2d-52            [-1, 512, 8, 8]           1,024\n",
      "             ReLU-53            [-1, 512, 8, 8]               0\n",
      "           Conv2d-54            [-1, 512, 8, 8]       2,359,296\n",
      "      BatchNorm2d-55            [-1, 512, 8, 8]           1,024\n",
      "           Conv2d-56            [-1, 512, 8, 8]         131,072\n",
      "      BatchNorm2d-57            [-1, 512, 8, 8]           1,024\n",
      "             ReLU-58            [-1, 512, 8, 8]               0\n",
      "       BasicBlock-59            [-1, 512, 8, 8]               0\n",
      "           Conv2d-60            [-1, 512, 8, 8]       2,359,296\n",
      "      BatchNorm2d-61            [-1, 512, 8, 8]           1,024\n",
      "             ReLU-62            [-1, 512, 8, 8]               0\n",
      "           Conv2d-63            [-1, 512, 8, 8]       2,359,296\n",
      "      BatchNorm2d-64            [-1, 512, 8, 8]           1,024\n",
      "             ReLU-65            [-1, 512, 8, 8]               0\n",
      "       BasicBlock-66            [-1, 512, 8, 8]               0\n",
      "           Conv2d-67            [-1, 512, 8, 8]       2,359,808\n",
      "             ReLU-68            [-1, 512, 8, 8]               0\n",
      "           Conv2d-69             [-1, 32, 8, 8]         147,488\n",
      "             ReLU-70             [-1, 32, 8, 8]               0\n",
      "           Conv2d-71              [-1, 6, 8, 8]           1,734\n",
      "             ReLU-72              [-1, 6, 8, 8]               0\n",
      "          Flatten-73                  [-1, 384]               0\n",
      "           Linear-74                   [-1, 10]           3,850\n",
      "================================================================\n",
      "Total params: 13,689,392\n",
      "Trainable params: 13,689,392\n",
      "Non-trainable params: 0\n",
      "----------------------------------------------------------------\n",
      "Input size (MB): 0.75\n",
      "Forward/backward pass size (MB): 82.54\n",
      "Params size (MB): 52.22\n",
      "Estimated Total Size (MB): 135.51\n",
      "----------------------------------------------------------------\n"
     ]
    }
   ],
   "source": [
    "from torchsummary import summary\n",
    "\n",
    "summary(model, input_size=(3, 256, 256))"
   ]
  },
  {
   "cell_type": "code",
   "execution_count": 30,
   "metadata": {},
   "outputs": [
    {
     "data": {
      "text/plain": [
       "===============================================================================================\n",
       "Layer (type:depth-idx)                        Output Shape              Param #\n",
       "===============================================================================================\n",
       "FoodModel                                     [1, 10]                   --\n",
       "├─Sequential: 1-1                             [1, 512, 8, 8]            --\n",
       "│    └─Conv2d: 2-1                            [1, 64, 128, 128]         9,408\n",
       "│    └─BatchNorm2d: 2-2                       [1, 64, 128, 128]         128\n",
       "│    └─ReLU: 2-3                              [1, 64, 128, 128]         --\n",
       "│    └─MaxPool2d: 2-4                         [1, 64, 64, 64]           --\n",
       "│    └─Sequential: 2-5                        [1, 64, 64, 64]           --\n",
       "│    │    └─BasicBlock: 3-1                   [1, 64, 64, 64]           73,984\n",
       "│    │    └─BasicBlock: 3-2                   [1, 64, 64, 64]           73,984\n",
       "│    └─Sequential: 2-6                        [1, 128, 32, 32]          --\n",
       "│    │    └─BasicBlock: 3-3                   [1, 128, 32, 32]          230,144\n",
       "│    │    └─BasicBlock: 3-4                   [1, 128, 32, 32]          295,424\n",
       "│    └─Sequential: 2-7                        [1, 256, 16, 16]          --\n",
       "│    │    └─BasicBlock: 3-5                   [1, 256, 16, 16]          919,040\n",
       "│    │    └─BasicBlock: 3-6                   [1, 256, 16, 16]          1,180,672\n",
       "│    └─Sequential: 2-8                        [1, 512, 8, 8]            --\n",
       "│    │    └─BasicBlock: 3-7                   [1, 512, 8, 8]            3,673,088\n",
       "│    │    └─BasicBlock: 3-8                   [1, 512, 8, 8]            4,720,640\n",
       "├─Sequential: 1-2                             [1, 6, 8, 8]              --\n",
       "│    └─Conv2d: 2-9                            [1, 512, 8, 8]            2,359,808\n",
       "│    └─ReLU: 2-10                             [1, 512, 8, 8]            --\n",
       "│    └─Conv2d: 2-11                           [1, 32, 8, 8]             147,488\n",
       "│    └─ReLU: 2-12                             [1, 32, 8, 8]             --\n",
       "│    └─Conv2d: 2-13                           [1, 6, 8, 8]              1,734\n",
       "│    └─ReLU: 2-14                             [1, 6, 8, 8]              --\n",
       "├─Flatten: 1-3                                [1, 384]                  --\n",
       "├─Linear: 1-4                                 [1, 10]                   3,850\n",
       "===============================================================================================\n",
       "Total params: 13,689,392\n",
       "Trainable params: 13,689,392\n",
       "Non-trainable params: 0\n",
       "Total mult-adds (Units.GIGABYTES): 2.53\n",
       "===============================================================================================\n",
       "Input size (MB): 0.79\n",
       "Forward/backward pass size (MB): 52.19\n",
       "Params size (MB): 54.76\n",
       "Estimated Total Size (MB): 107.73\n",
       "==============================================================================================="
      ]
     },
     "execution_count": 30,
     "metadata": {},
     "output_type": "execute_result"
    }
   ],
   "source": [
    "from torchinfo import summary\n",
    "\n",
    "summary(model, input_size=[1, 3, 256, 256])"
   ]
  },
  {
   "cell_type": "code",
   "execution_count": 31,
   "metadata": {},
   "outputs": [],
   "source": [
    "# Calculate accuracy (a classification metric)\n",
    "def accuracy_fn(y_true, y_pred):\n",
    "    correct = torch.eq(y_true, y_pred).sum().item() # torch.eq() calculates where two tensors are equal\n",
    "    acc = (correct / len(y_pred)) * 100 \n",
    "    return acc"
   ]
  },
  {
   "cell_type": "code",
   "execution_count": 32,
   "metadata": {},
   "outputs": [],
   "source": [
    "\n",
    "def train_step(model: torch.nn.Module,\n",
    "                data_loader: torch.utils.data.DataLoader,\n",
    "                loss_fn: torch.nn.Module,\n",
    "                optimizer: torch.optim.Optimizer,\n",
    "                accuracy_fn,\n",
    "                train_loss_accum: list,\n",
    "                train_acc_accum: list,\n",
    "                device: torch.device = device):\n",
    "    \n",
    "    train_loss, train_acc = 0, 0\n",
    "    model.to(device)\n",
    "    \n",
    "    for batch, (X, y) in enumerate(data_loader):\n",
    "        # Send data to GPU\n",
    "        X, y = X.to(device), y.to(device)\n",
    "\n",
    "        # 1. Forward pass\n",
    "        y_logit = model(X)\n",
    "        \n",
    "        y_proba = torch.softmax(y_logit, dim=1)\n",
    "        y_pred = y_proba.argmax(dim=1)\n",
    "\n",
    "        # 2. Calculate loss\n",
    "        loss = loss_fn(y_logit, y)\n",
    "        train_loss += loss\n",
    "        train_acc += accuracy_fn(y_true=y,\n",
    "                                y_pred=y_pred) # Go from logits -> pred labels\n",
    "\n",
    "        # 3. Optimizer zero grad\n",
    "        optimizer.zero_grad()\n",
    "\n",
    "        # 4. Loss backward\n",
    "        loss.backward()\n",
    "\n",
    "        # 5. Optimizer step\n",
    "        optimizer.step()\n",
    "\n",
    "    # Calculate loss and accuracy per epoch and print out what's happening\n",
    "    train_loss /= len(data_loader)\n",
    "    train_acc /= len(data_loader)\n",
    "    train_loss_accum.append(train_loss.item())\n",
    "    train_acc_accum.append(train_acc/100.0)\n",
    "    print(f\"Train loss: {train_loss:.5f} | Train accuracy: {train_acc:.2f}%\")\n",
    "    \n",
    "    \n",
    "\n",
    "def test_step(data_loader: torch.utils.data.DataLoader,\n",
    "                model: torch.nn.Module,\n",
    "                loss_fn: torch.nn.Module,\n",
    "                accuracy_fn,\n",
    "                test_loss_accum: list,\n",
    "                test_acc_accum: list,\n",
    "                device: torch.device = device):\n",
    "    \n",
    "    test_loss, test_acc = 0, 0\n",
    "    model.to(device)\n",
    "    \n",
    "    model.eval() # put model in eval mode\n",
    "    # Turn on inference context manager\n",
    "    with torch.inference_mode(): \n",
    "        for X, y in data_loader:\n",
    "            # Send data to GPU\n",
    "            X, y = X.to(device), y.to(device)\n",
    "            \n",
    "            # 1. Forward pass\n",
    "            test_logit = model(X)\n",
    "            test_proba = torch.softmax(test_logit, dim=1)\n",
    "            test_pred = test_proba.argmax(dim=1)\n",
    "            \n",
    "            # 2. Calculate loss and accuracy\n",
    "            test_loss += loss_fn(test_logit, y)\n",
    "            test_acc += accuracy_fn(y_true=y,\n",
    "                y_pred=test_pred # Go from logits -> pred labels\n",
    "            )\n",
    "        \n",
    "        # Adjust metrics and print out\n",
    "        test_loss /= len(data_loader)\n",
    "        test_acc /= len(data_loader)\n",
    "        test_loss_accum.append(test_loss.item())\n",
    "        test_acc_accum.append(test_acc/100.0)\n",
    "        print(f\"Test loss: {test_loss:.5f} | Test accuracy: {test_acc:.2f}%\\n\")"
   ]
  },
  {
   "cell_type": "code",
   "execution_count": 33,
   "metadata": {},
   "outputs": [],
   "source": [
    "def print_train_time(start: float, end: float, device: torch.device = None):\n",
    "    \"\"\"Prints difference between start and end time.\n",
    "\n",
    "    Args:\n",
    "        start (float): Start time of computation (preferred in timeit format). \n",
    "        end (float): End time of computation.\n",
    "        device ([type], optional): Device that compute is running on. Defaults to None.\n",
    "\n",
    "    Returns:\n",
    "        float: time between start and end in seconds (higher is longer).\n",
    "    \"\"\"\n",
    "    total_time = end - start\n",
    "    print(f\"Train time on {device}: {total_time:.3f} seconds\")\n",
    "    \n",
    "    return total_time"
   ]
  },
  {
   "cell_type": "code",
   "execution_count": 37,
   "metadata": {},
   "outputs": [
    {
     "data": {
      "application/vnd.jupyter.widget-view+json": {
       "model_id": "881599ffe30b4c16b248e47a54366867",
       "version_major": 2,
       "version_minor": 0
      },
      "text/plain": [
       "  0%|          | 0/6 [00:00<?, ?it/s]"
      ]
     },
     "metadata": {},
     "output_type": "display_data"
    },
    {
     "name": "stdout",
     "output_type": "stream",
     "text": [
      "Epoch: 0\n",
      "---------\n",
      "Train loss: 1.04072 | Train accuracy: 64.15%\n",
      "Test loss: 0.41731 | Test accuracy: 87.14%\n",
      "\n",
      "Epoch: 1\n",
      "---------\n",
      "Train loss: 0.54812 | Train accuracy: 82.41%\n",
      "Test loss: 0.42763 | Test accuracy: 86.35%\n",
      "\n",
      "Epoch: 2\n",
      "---------\n",
      "Train loss: 0.30589 | Train accuracy: 90.11%\n",
      "Test loss: 0.76943 | Test accuracy: 80.14%\n",
      "\n",
      "Epoch: 3\n",
      "---------\n",
      "Train loss: 0.20920 | Train accuracy: 93.28%\n",
      "Test loss: 0.47620 | Test accuracy: 86.16%\n",
      "\n",
      "Epoch: 4\n",
      "---------\n",
      "Train loss: 0.16892 | Train accuracy: 94.57%\n",
      "Test loss: 0.46923 | Test accuracy: 84.65%\n",
      "\n",
      "Epoch: 5\n",
      "---------\n",
      "Train loss: 0.13562 | Train accuracy: 95.73%\n",
      "Test loss: 0.42716 | Test accuracy: 88.81%\n",
      "\n",
      "Train time on cuda: 508.564 seconds\n"
     ]
    }
   ],
   "source": [
    "from tqdm.auto import tqdm # type: ignore\n",
    "\n",
    "# Measure time\n",
    "from timeit import default_timer as timer\n",
    "train_time_start_model = timer()\n",
    "\n",
    "model = FoodModel(\n",
    "    output_classes=len(train_dataset.classes)\n",
    ").to(device)\n",
    "\n",
    "# Train and test model \n",
    "epochs = 6\n",
    "\n",
    "# list to store train and test loss, accuracy\n",
    "train_losses, train_accuracies = [], []\n",
    "test_losses, test_accuracies = [], []\n",
    "\n",
    "# Setup loss and optimizer\n",
    "loss_fn = nn.CrossEntropyLoss()\n",
    "optimizer = torch.optim.Adam(params=model.parameters(),\n",
    "                        betas=(0.9, 0.999),\n",
    "                        lr=0.0001)\n",
    "\n",
    "# optimizer = torch.optim.SGD(params=model_0.parameters(),\n",
    "#                         lr=0.1)\n",
    "\n",
    "for epoch in tqdm(range(epochs)):\n",
    "    print(f\"Epoch: {epoch}\\n---------\")\n",
    "    \n",
    "    train_step(data_loader=train_loader, \n",
    "        model=model, \n",
    "        loss_fn=loss_fn,\n",
    "        optimizer=optimizer,\n",
    "        accuracy_fn=accuracy_fn,\n",
    "        train_loss_accum=train_losses,\n",
    "        train_acc_accum=train_accuracies,\n",
    "        device=device\n",
    "    )\n",
    "    \n",
    "    test_step(data_loader=test_loader,\n",
    "        model=model,\n",
    "        loss_fn=loss_fn,\n",
    "        accuracy_fn=accuracy_fn,\n",
    "        test_loss_accum=test_losses,\n",
    "        test_acc_accum=test_accuracies,\n",
    "        device=device\n",
    "    )\n",
    "\n",
    "train_time_end_model = timer()\n",
    "total_train_time_model = print_train_time(start=train_time_start_model,\n",
    "                                        end=train_time_end_model,\n",
    "                                        device=device)"
   ]
  },
  {
   "cell_type": "code",
   "execution_count": 38,
   "metadata": {},
   "outputs": [],
   "source": [
    "from utils import plot_training_history"
   ]
  },
  {
   "cell_type": "code",
   "execution_count": 39,
   "metadata": {},
   "outputs": [
    {
     "data": {
      "image/png": "[encoded data removed]",
      "text/plain": [
       "<Figure size 1200x600 with 2 Axes>"
      ]
     },
     "metadata": {},
     "output_type": "display_data"
    }
   ],
   "source": [
    "plot_training_history(\n",
    "    epochs=epochs,\n",
    "    train_losses=train_losses,\n",
    "    train_accuracies=train_accuracies,\n",
    "    test_losses=test_losses,\n",
    "    test_accuracies=test_accuracies\n",
    ")"
   ]
  }
 ],
 "metadata": {
  "kernelspec": {
   "display_name": "GenAI",
   "language": "python",
   "name": "python3"
  },
  "language_info": {
   "codemirror_mode": {
    "name": "ipython",
    "version": 3
   },
   "file_extension": ".py",
   "mimetype": "text/x-python",
   "name": "python",
   "nbconvert_exporter": "python",
   "pygments_lexer": "ipython3",
   "version": "3.11.0"
  }
 },
 "nbformat": 4,
 "nbformat_minor": 2
}
