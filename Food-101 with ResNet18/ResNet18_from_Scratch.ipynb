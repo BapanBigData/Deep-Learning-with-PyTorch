{
 "cells": [
  {
   "cell_type": "code",
   "execution_count": 1,
   "metadata": {},
   "outputs": [],
   "source": [
    "import os\n",
    "import tarfile\n",
    "import requests\n",
    "import shutil\n",
    "from tqdm import tqdm\n",
    "import torch\n",
    "from torchvision import datasets, transforms\n",
    "from torch.utils.data import DataLoader, Subset\n",
    "from random import sample\n",
    "import matplotlib.pyplot as plt\n",
    "\n",
    "%matplotlib inline"
   ]
  },
  {
   "cell_type": "code",
   "execution_count": 2,
   "metadata": {},
   "outputs": [],
   "source": [
    "\n",
    "def select_data_subset(split_file, source_dir, target_dir, selected_classes, images_per_class=None):\n",
    "    \"\"\"\n",
    "    Select specific classes and copy their images to a new directory for train/test splits.\n",
    "    \"\"\"\n",
    "    os.makedirs(target_dir, exist_ok=True)\n",
    "\n",
    "    # Read the split file (train.txt or test.txt)\n",
    "    with open(split_file, 'r') as f:\n",
    "        all_images = f.read().splitlines()\n",
    "\n",
    "    # Filter images for the selected classes\n",
    "    class_images = {cls: [] for cls in selected_classes}\n",
    "    for img in all_images:\n",
    "        cls = img.split('/')[0]\n",
    "        if cls in selected_classes:\n",
    "            class_images[cls].append(img)\n",
    "\n",
    "    # Copy images for each selected class\n",
    "    for cls, images in class_images.items():\n",
    "        tgt_class_path = os.path.join(target_dir, cls)\n",
    "        os.makedirs(tgt_class_path, exist_ok=True)\n",
    "\n",
    "        if images_per_class:\n",
    "            images = sample(images, images_per_class)\n",
    "\n",
    "        for img in images:\n",
    "            src_path = os.path.join(source_dir, f\"{img}.jpg\")\n",
    "            tgt_path = os.path.join(tgt_class_path, os.path.basename(img) + \".jpg\")\n",
    "            shutil.copy(src_path, tgt_path)"
   ]
  },
  {
   "cell_type": "code",
   "execution_count": 3,
   "metadata": {},
   "outputs": [],
   "source": [
    "dataset_path = \"data101/food-101\""
   ]
  },
  {
   "cell_type": "code",
   "execution_count": 4,
   "metadata": {},
   "outputs": [],
   "source": [
    "# # Step 2: Subset the Dataset for Training and Testing\n",
    "# source_data_dir = os.path.join(dataset_path, \"food-101\", \"images\")\n",
    "# train_split_file = os.path.join(dataset_path, \"food-101\", \"meta\", \"train.txt\")\n",
    "# test_split_file = os.path.join(dataset_path, \"food-101\", \"meta\", \"test.txt\")\n",
    "\n",
    "# subset_data_dir = \"data25/food-101-25classes\"\n",
    "\n",
    "# # Choose 25 classes\n",
    "# selected_classes = [\n",
    "#     'poutine', 'grilled_salmon', 'hummus', 'fish_and_chips', 'beignets', \n",
    "#     'club_sandwich', 'spaghetti_carbonara', 'apple_pie', 'pizza', 'ceviche', \n",
    "#     'ravioli', 'nachos', 'french_fries', 'caesar_salad', 'takoyaki', \n",
    "#     'hot_dog', 'pho', 'scallops', 'shrimp_and_grits', 'risotto', \n",
    "#     'gyoza', 'deviled_eggs', 'french_onion_soup', 'macarons', 'churros'\n",
    "# ]\n",
    "\n",
    "# # Select data for training (750 images/class by default in Food-101)\n",
    "# select_data_subset(train_split_file, source_data_dir, os.path.join(subset_data_dir, \"train\"), selected_classes)\n",
    "\n",
    "# # Select data for testing (250 images/class by default in Food-101)\n",
    "# select_data_subset(test_split_file, source_data_dir, os.path.join(subset_data_dir, \"test\"), selected_classes)"
   ]
  },
  {
   "cell_type": "code",
   "execution_count": 5,
   "metadata": {},
   "outputs": [],
   "source": [
    "\n",
    "subset_data_dir = \"data25/food-101-25classes\""
   ]
  },
  {
   "cell_type": "code",
   "execution_count": 6,
   "metadata": {},
   "outputs": [],
   "source": [
    "from torch.utils.data import DataLoader\n",
    "import torchvision\n",
    "from torchvision import datasets, transforms"
   ]
  },
  {
   "cell_type": "code",
   "execution_count": 7,
   "metadata": {},
   "outputs": [],
   "source": [
    "# data augmentation\n",
    "# create a train transformation\n",
    "\n",
    "train_transform = transforms.Compose([\n",
    "    # resize the image to 224X224\n",
    "    transforms.Resize(size=(224, 224)),\n",
    "    \n",
    "    # flip the image randomly on the horizontal axis\n",
    "    transforms.RandomHorizontalFlip(p=0.5),\n",
    "    \n",
    "    #transforms.RandomRotation(10),\n",
    "    # #transforms.RandomResizedCrop(64, scale=(0.8, 1.0)),\n",
    "    transforms.ColorJitter(brightness=0.1, contrast=0.1),\n",
    "    \n",
    "    # turn the image into torch.Tensor\n",
    "    transforms.ToTensor()\n",
    "])\n",
    "\n",
    "\n",
    "test_transform = transforms.Compose([\n",
    "    # resize the image to 224X224\n",
    "    transforms.Resize(size=(224, 224)),\n",
    "    \n",
    "    # turn the image into torch.Tensor\n",
    "    transforms.ToTensor()\n",
    "])"
   ]
  },
  {
   "cell_type": "code",
   "execution_count": 8,
   "metadata": {},
   "outputs": [
    {
     "data": {
      "text/plain": [
       "'data25/food-101-25classes'"
      ]
     },
     "execution_count": 8,
     "metadata": {},
     "output_type": "execute_result"
    }
   ],
   "source": [
    "subset_data_dir"
   ]
  },
  {
   "cell_type": "code",
   "execution_count": 9,
   "metadata": {},
   "outputs": [],
   "source": [
    "train_dataset = datasets.ImageFolder(root=os.path.join(subset_data_dir, \"train\"), \n",
    "                                    transform=train_transform)\n",
    "\n",
    "test_dataset = datasets.ImageFolder(root=os.path.join(subset_data_dir, \"test\"), \n",
    "                                    transform=test_transform)"
   ]
  },
  {
   "cell_type": "code",
   "execution_count": 10,
   "metadata": {},
   "outputs": [
    {
     "data": {
      "text/plain": [
       "(18750, 6250)"
      ]
     },
     "execution_count": 10,
     "metadata": {},
     "output_type": "execute_result"
    }
   ],
   "source": [
    "len(train_dataset), len(test_dataset)"
   ]
  },
  {
   "cell_type": "code",
   "execution_count": 11,
   "metadata": {},
   "outputs": [],
   "source": [
    "BATCH_SIZE = 32\n",
    "\n",
    "train_loader = DataLoader(train_dataset, batch_size=BATCH_SIZE, shuffle=True)\n",
    "test_loader = DataLoader(test_dataset, batch_size=BATCH_SIZE, shuffle=False)"
   ]
  },
  {
   "cell_type": "code",
   "execution_count": 12,
   "metadata": {},
   "outputs": [
    {
     "data": {
      "text/plain": [
       "'cuda'"
      ]
     },
     "execution_count": 12,
     "metadata": {},
     "output_type": "execute_result"
    }
   ],
   "source": [
    "# setup the device agnostic code\n",
    "device = \"cuda\" if torch.cuda.is_available() else \"cpu\"\n",
    "device"
   ]
  },
  {
   "cell_type": "code",
   "execution_count": 13,
   "metadata": {},
   "outputs": [
    {
     "data": {
      "text/plain": [
       "25"
      ]
     },
     "execution_count": 13,
     "metadata": {},
     "output_type": "execute_result"
    }
   ],
   "source": [
    "len(train_dataset.classes)"
   ]
  },
  {
   "cell_type": "code",
   "execution_count": 14,
   "metadata": {},
   "outputs": [
    {
     "data": {
      "text/plain": [
       "(586, 196)"
      ]
     },
     "execution_count": 14,
     "metadata": {},
     "output_type": "execute_result"
    }
   ],
   "source": [
    "len(train_loader), len(test_loader)"
   ]
  },
  {
   "cell_type": "code",
   "execution_count": 15,
   "metadata": {},
   "outputs": [],
   "source": [
    "from typing import Type, Any, Callable, List, Optional\n",
    "import torch\n",
    "import torch.nn as nn\n",
    "import torch.nn.functional as F"
   ]
  },
  {
   "cell_type": "code",
   "execution_count": 16,
   "metadata": {},
   "outputs": [],
   "source": [
    "class BasicBlock(nn.Module):\n",
    "    expansion: int = 1  # Class-level attribute for block expansion\n",
    "\n",
    "    def __init__(self, in_channels: int, out_channels: int, stride: int = 1) -> None:\n",
    "        super().__init__()\n",
    "        self.conv1 = nn.Conv2d(in_channels, out_channels, kernel_size=3, stride=stride, padding=1, bias=False)\n",
    "        self.bn1 = nn.BatchNorm2d(out_channels)\n",
    "        self.conv2 = nn.Conv2d(out_channels, out_channels, kernel_size=3, stride=1, padding=1, bias=False)\n",
    "        self.bn2 = nn.BatchNorm2d(out_channels)\n",
    "\n",
    "        # Shortcut connection to handle downsampling or mismatched channels\n",
    "        self.shortcut = nn.Sequential()\n",
    "        if stride != 1 or in_channels != out_channels:\n",
    "            self.shortcut = nn.Sequential(\n",
    "                nn.Conv2d(in_channels, out_channels, kernel_size=1, stride=stride, bias=False),\n",
    "                nn.BatchNorm2d(out_channels)\n",
    "            )\n",
    "\n",
    "    def forward(self, x: torch.Tensor) -> torch.Tensor:\n",
    "        shortcut = self.shortcut(x)\n",
    "        x = F.relu(self.bn1(self.conv1(x)))\n",
    "        x = self.bn2(self.conv2(x))\n",
    "        x += shortcut\n",
    "        return F.relu(x)\n"
   ]
  },
  {
   "cell_type": "code",
   "execution_count": 17,
   "metadata": {},
   "outputs": [],
   "source": [
    "class ResNet(nn.Module):\n",
    "    def __init__(self, \n",
    "                block: Type[BasicBlock], \n",
    "                num_blocks: List[int], \n",
    "                num_classes: int = 25) -> None:\n",
    "        \n",
    "        super().__init__()\n",
    "        self.in_channels: int = 64\n",
    "\n",
    "        # Initial convolutional layer\n",
    "        self.conv1 = nn.Conv2d(3, 64, kernel_size=7, stride=2, padding=3, bias=False)\n",
    "        self.bn1 = nn.BatchNorm2d(64)\n",
    "        self.relu = nn.ReLU(inplace=True)\n",
    "        self.maxpool = nn.MaxPool2d(kernel_size=3, stride=2, padding=1)\n",
    "\n",
    "        # Residual block layers\n",
    "        self.layer1 = self._make_layer(block, 64, num_blocks[0], stride=1)\n",
    "        self.layer2 = self._make_layer(block, 128, num_blocks[1], stride=2)\n",
    "        self.layer3 = self._make_layer(block, 256, num_blocks[2], stride=2)\n",
    "        self.layer4 = self._make_layer(block, 512, num_blocks[3], stride=2)\n",
    "\n",
    "        # Global average pooling and fully connected layer\n",
    "        self.avgpool = nn.AdaptiveAvgPool2d((1, 1))\n",
    "        self.fc = nn.Linear(512 * block.expansion, num_classes)\n",
    "\n",
    "    def _make_layer(self, \n",
    "                    block: Type[BasicBlock], \n",
    "                    out_channels: int, \n",
    "                    num_blocks: int, \n",
    "                    stride: int) -> nn.Sequential:\n",
    "        \n",
    "        layers: List[nn.Module] = []\n",
    "        # First block with downsampling (if stride > 1)\n",
    "        layers.append(block(self.in_channels, out_channels, stride))\n",
    "        self.in_channels = out_channels * block.expansion\n",
    "        # Remaining blocks\n",
    "        for _ in range(1, num_blocks):\n",
    "            layers.append(block(self.in_channels, out_channels))\n",
    "        return nn.Sequential(*layers)\n",
    "\n",
    "    def forward(self, x: torch.Tensor) -> torch.Tensor:\n",
    "        x = self.relu(self.bn1(self.conv1(x)))\n",
    "        x = self.maxpool(x)\n",
    "\n",
    "        x = self.layer1(x)\n",
    "        x = self.layer2(x)\n",
    "        x = self.layer3(x)\n",
    "        x = self.layer4(x)\n",
    "\n",
    "        x = self.avgpool(x)\n",
    "        x = torch.flatten(x, 1)  # Flatten for the fully connected layer\n",
    "        x = self.fc(x)\n",
    "        return x"
   ]
  },
  {
   "cell_type": "code",
   "execution_count": 18,
   "metadata": {},
   "outputs": [],
   "source": [
    "def ResNet18(num_classes: int = len(train_dataset.classes)) -> ResNet:\n",
    "    return ResNet(BasicBlock, [2, 2, 2, 2], num_classes)\n",
    "\n",
    "model = ResNet18(num_classes=len(train_dataset.classes)).to(device=device)"
   ]
  },
  {
   "cell_type": "code",
   "execution_count": 19,
   "metadata": {},
   "outputs": [
    {
     "name": "stdout",
     "output_type": "stream",
     "text": [
      "----------------------------------------------------------------\n",
      "        Layer (type)               Output Shape         Param #\n",
      "================================================================\n",
      "            Conv2d-1         [-1, 64, 112, 112]           9,408\n",
      "       BatchNorm2d-2         [-1, 64, 112, 112]             128\n",
      "              ReLU-3         [-1, 64, 112, 112]               0\n",
      "         MaxPool2d-4           [-1, 64, 56, 56]               0\n",
      "            Conv2d-5           [-1, 64, 56, 56]          36,864\n",
      "       BatchNorm2d-6           [-1, 64, 56, 56]             128\n",
      "            Conv2d-7           [-1, 64, 56, 56]          36,864\n",
      "       BatchNorm2d-8           [-1, 64, 56, 56]             128\n",
      "        BasicBlock-9           [-1, 64, 56, 56]               0\n",
      "           Conv2d-10           [-1, 64, 56, 56]          36,864\n",
      "      BatchNorm2d-11           [-1, 64, 56, 56]             128\n",
      "           Conv2d-12           [-1, 64, 56, 56]          36,864\n",
      "      BatchNorm2d-13           [-1, 64, 56, 56]             128\n",
      "       BasicBlock-14           [-1, 64, 56, 56]               0\n",
      "           Conv2d-15          [-1, 128, 28, 28]           8,192\n",
      "      BatchNorm2d-16          [-1, 128, 28, 28]             256\n",
      "           Conv2d-17          [-1, 128, 28, 28]          73,728\n",
      "      BatchNorm2d-18          [-1, 128, 28, 28]             256\n",
      "           Conv2d-19          [-1, 128, 28, 28]         147,456\n",
      "      BatchNorm2d-20          [-1, 128, 28, 28]             256\n",
      "       BasicBlock-21          [-1, 128, 28, 28]               0\n",
      "           Conv2d-22          [-1, 128, 28, 28]         147,456\n",
      "      BatchNorm2d-23          [-1, 128, 28, 28]             256\n",
      "           Conv2d-24          [-1, 128, 28, 28]         147,456\n",
      "      BatchNorm2d-25          [-1, 128, 28, 28]             256\n",
      "       BasicBlock-26          [-1, 128, 28, 28]               0\n",
      "           Conv2d-27          [-1, 256, 14, 14]          32,768\n",
      "      BatchNorm2d-28          [-1, 256, 14, 14]             512\n",
      "           Conv2d-29          [-1, 256, 14, 14]         294,912\n",
      "      BatchNorm2d-30          [-1, 256, 14, 14]             512\n",
      "           Conv2d-31          [-1, 256, 14, 14]         589,824\n",
      "      BatchNorm2d-32          [-1, 256, 14, 14]             512\n",
      "       BasicBlock-33          [-1, 256, 14, 14]               0\n",
      "           Conv2d-34          [-1, 256, 14, 14]         589,824\n",
      "      BatchNorm2d-35          [-1, 256, 14, 14]             512\n",
      "           Conv2d-36          [-1, 256, 14, 14]         589,824\n",
      "      BatchNorm2d-37          [-1, 256, 14, 14]             512\n",
      "       BasicBlock-38          [-1, 256, 14, 14]               0\n",
      "           Conv2d-39            [-1, 512, 7, 7]         131,072\n",
      "      BatchNorm2d-40            [-1, 512, 7, 7]           1,024\n",
      "           Conv2d-41            [-1, 512, 7, 7]       1,179,648\n",
      "      BatchNorm2d-42            [-1, 512, 7, 7]           1,024\n",
      "           Conv2d-43            [-1, 512, 7, 7]       2,359,296\n",
      "      BatchNorm2d-44            [-1, 512, 7, 7]           1,024\n",
      "       BasicBlock-45            [-1, 512, 7, 7]               0\n",
      "           Conv2d-46            [-1, 512, 7, 7]       2,359,296\n",
      "      BatchNorm2d-47            [-1, 512, 7, 7]           1,024\n",
      "           Conv2d-48            [-1, 512, 7, 7]       2,359,296\n",
      "      BatchNorm2d-49            [-1, 512, 7, 7]           1,024\n",
      "       BasicBlock-50            [-1, 512, 7, 7]               0\n",
      "AdaptiveAvgPool2d-51            [-1, 512, 1, 1]               0\n",
      "           Linear-52                   [-1, 25]          12,825\n",
      "================================================================\n",
      "Total params: 11,189,337\n",
      "Trainable params: 11,189,337\n",
      "Non-trainable params: 0\n",
      "----------------------------------------------------------------\n",
      "Input size (MB): 0.57\n",
      "Forward/backward pass size (MB): 51.30\n",
      "Params size (MB): 42.68\n",
      "Estimated Total Size (MB): 94.56\n",
      "----------------------------------------------------------------\n"
     ]
    }
   ],
   "source": [
    "from torchsummary import summary\n",
    "\n",
    "summary(model, input_size=(3, 224, 224))"
   ]
  },
  {
   "cell_type": "code",
   "execution_count": 20,
   "metadata": {},
   "outputs": [
    {
     "data": {
      "text/plain": [
       "==========================================================================================\n",
       "Layer (type:depth-idx)                   Output Shape              Param #\n",
       "==========================================================================================\n",
       "ResNet                                   [1, 25]                   --\n",
       "├─Conv2d: 1-1                            [1, 64, 112, 112]         9,408\n",
       "├─BatchNorm2d: 1-2                       [1, 64, 112, 112]         128\n",
       "├─ReLU: 1-3                              [1, 64, 112, 112]         --\n",
       "├─MaxPool2d: 1-4                         [1, 64, 56, 56]           --\n",
       "├─Sequential: 1-5                        [1, 64, 56, 56]           --\n",
       "│    └─BasicBlock: 2-1                   [1, 64, 56, 56]           --\n",
       "│    │    └─Sequential: 3-1              [1, 64, 56, 56]           --\n",
       "│    │    └─Conv2d: 3-2                  [1, 64, 56, 56]           36,864\n",
       "│    │    └─BatchNorm2d: 3-3             [1, 64, 56, 56]           128\n",
       "│    │    └─Conv2d: 3-4                  [1, 64, 56, 56]           36,864\n",
       "│    │    └─BatchNorm2d: 3-5             [1, 64, 56, 56]           128\n",
       "│    └─BasicBlock: 2-2                   [1, 64, 56, 56]           --\n",
       "│    │    └─Sequential: 3-6              [1, 64, 56, 56]           --\n",
       "│    │    └─Conv2d: 3-7                  [1, 64, 56, 56]           36,864\n",
       "│    │    └─BatchNorm2d: 3-8             [1, 64, 56, 56]           128\n",
       "│    │    └─Conv2d: 3-9                  [1, 64, 56, 56]           36,864\n",
       "│    │    └─BatchNorm2d: 3-10            [1, 64, 56, 56]           128\n",
       "├─Sequential: 1-6                        [1, 128, 28, 28]          --\n",
       "│    └─BasicBlock: 2-3                   [1, 128, 28, 28]          --\n",
       "│    │    └─Sequential: 3-11             [1, 128, 28, 28]          8,448\n",
       "│    │    └─Conv2d: 3-12                 [1, 128, 28, 28]          73,728\n",
       "│    │    └─BatchNorm2d: 3-13            [1, 128, 28, 28]          256\n",
       "│    │    └─Conv2d: 3-14                 [1, 128, 28, 28]          147,456\n",
       "│    │    └─BatchNorm2d: 3-15            [1, 128, 28, 28]          256\n",
       "│    └─BasicBlock: 2-4                   [1, 128, 28, 28]          --\n",
       "│    │    └─Sequential: 3-16             [1, 128, 28, 28]          --\n",
       "│    │    └─Conv2d: 3-17                 [1, 128, 28, 28]          147,456\n",
       "│    │    └─BatchNorm2d: 3-18            [1, 128, 28, 28]          256\n",
       "│    │    └─Conv2d: 3-19                 [1, 128, 28, 28]          147,456\n",
       "│    │    └─BatchNorm2d: 3-20            [1, 128, 28, 28]          256\n",
       "├─Sequential: 1-7                        [1, 256, 14, 14]          --\n",
       "│    └─BasicBlock: 2-5                   [1, 256, 14, 14]          --\n",
       "│    │    └─Sequential: 3-21             [1, 256, 14, 14]          33,280\n",
       "│    │    └─Conv2d: 3-22                 [1, 256, 14, 14]          294,912\n",
       "│    │    └─BatchNorm2d: 3-23            [1, 256, 14, 14]          512\n",
       "│    │    └─Conv2d: 3-24                 [1, 256, 14, 14]          589,824\n",
       "│    │    └─BatchNorm2d: 3-25            [1, 256, 14, 14]          512\n",
       "│    └─BasicBlock: 2-6                   [1, 256, 14, 14]          --\n",
       "│    │    └─Sequential: 3-26             [1, 256, 14, 14]          --\n",
       "│    │    └─Conv2d: 3-27                 [1, 256, 14, 14]          589,824\n",
       "│    │    └─BatchNorm2d: 3-28            [1, 256, 14, 14]          512\n",
       "│    │    └─Conv2d: 3-29                 [1, 256, 14, 14]          589,824\n",
       "│    │    └─BatchNorm2d: 3-30            [1, 256, 14, 14]          512\n",
       "├─Sequential: 1-8                        [1, 512, 7, 7]            --\n",
       "│    └─BasicBlock: 2-7                   [1, 512, 7, 7]            --\n",
       "│    │    └─Sequential: 3-31             [1, 512, 7, 7]            132,096\n",
       "│    │    └─Conv2d: 3-32                 [1, 512, 7, 7]            1,179,648\n",
       "│    │    └─BatchNorm2d: 3-33            [1, 512, 7, 7]            1,024\n",
       "│    │    └─Conv2d: 3-34                 [1, 512, 7, 7]            2,359,296\n",
       "│    │    └─BatchNorm2d: 3-35            [1, 512, 7, 7]            1,024\n",
       "│    └─BasicBlock: 2-8                   [1, 512, 7, 7]            --\n",
       "│    │    └─Sequential: 3-36             [1, 512, 7, 7]            --\n",
       "│    │    └─Conv2d: 3-37                 [1, 512, 7, 7]            2,359,296\n",
       "│    │    └─BatchNorm2d: 3-38            [1, 512, 7, 7]            1,024\n",
       "│    │    └─Conv2d: 3-39                 [1, 512, 7, 7]            2,359,296\n",
       "│    │    └─BatchNorm2d: 3-40            [1, 512, 7, 7]            1,024\n",
       "├─AdaptiveAvgPool2d: 1-9                 [1, 512, 1, 1]            --\n",
       "├─Linear: 1-10                           [1, 25]                   12,825\n",
       "==========================================================================================\n",
       "Total params: 11,189,337\n",
       "Trainable params: 11,189,337\n",
       "Non-trainable params: 0\n",
       "Total mult-adds (Units.GIGABYTES): 1.81\n",
       "==========================================================================================\n",
       "Input size (MB): 0.60\n",
       "Forward/backward pass size (MB): 39.74\n",
       "Params size (MB): 44.76\n",
       "Estimated Total Size (MB): 85.10\n",
       "=========================================================================================="
      ]
     },
     "execution_count": 20,
     "metadata": {},
     "output_type": "execute_result"
    }
   ],
   "source": [
    "from torchinfo import summary\n",
    "\n",
    "summary(model, input_size=[1, 3, 224, 224])"
   ]
  },
  {
   "cell_type": "code",
   "execution_count": 22,
   "metadata": {},
   "outputs": [],
   "source": [
    "# EarlyStopping class\n",
    "class EarlyStopping:\n",
    "    def __init__(self, patience: int = 3, verbose: bool = True):\n",
    "        \"\"\"\n",
    "        Args:\n",
    "            patience (int): Number of epochs to wait for improvement before stopping.\n",
    "            verbose (bool): Print messages when stopping if True.\n",
    "        \"\"\"\n",
    "        self.patience = patience\n",
    "        self.verbose = verbose\n",
    "        self.counter = 0\n",
    "        self.best_loss = float('inf')\n",
    "        self.early_stop = False\n",
    "\n",
    "    def __call__(self, val_loss: float):\n",
    "        if val_loss < self.best_loss:\n",
    "            self.best_loss = val_loss\n",
    "            self.counter = 0\n",
    "        else:\n",
    "            self.counter += 1\n",
    "            if self.verbose:\n",
    "                print(f\"EarlyStopping counter: {self.counter}/{self.patience}\")\n",
    "            if self.counter >= self.patience:\n",
    "                self.early_stop = True\n",
    "                if self.verbose:\n",
    "                    print(\"Early stopping triggered!\")"
   ]
  },
  {
   "cell_type": "code",
   "execution_count": 23,
   "metadata": {},
   "outputs": [],
   "source": [
    "# Calculate accuracy (a classification metric)\n",
    "def accuracy_fn(y_true, y_pred):\n",
    "    correct = torch.eq(y_true, y_pred).sum().item() # torch.eq() calculates where two tensors are equal\n",
    "    acc = (correct / len(y_pred)) * 100 \n",
    "    return acc"
   ]
  },
  {
   "cell_type": "code",
   "execution_count": 24,
   "metadata": {},
   "outputs": [],
   "source": [
    "def train_step(model: torch.nn.Module,\n",
    "            data_loader: torch.utils.data.DataLoader,\n",
    "            loss_fn: torch.nn.Module,\n",
    "            optimizer: torch.optim.Optimizer,\n",
    "            accuracy_fn,\n",
    "            train_loss_accum: list,\n",
    "            train_acc_accum: list,\n",
    "            device: torch.device = device):\n",
    "    \n",
    "    train_loss, train_acc = 0, 0\n",
    "    model.to(device)\n",
    "    \n",
    "    for batch, (X, y) in enumerate(data_loader):\n",
    "        # Send data to GPU\n",
    "        X, y = X.to(device), y.to(device)\n",
    "\n",
    "        # 1. Forward pass\n",
    "        y_logit = model(X)\n",
    "        y_proba = torch.softmax(y_logit, dim=1)\n",
    "        y_pred = y_proba.argmax(dim=1)\n",
    "\n",
    "        # 2. Calculate loss\n",
    "        loss = loss_fn(y_logit, y)\n",
    "        train_loss += loss\n",
    "        train_acc += accuracy_fn(y_true=y,\n",
    "                                y_pred=y_pred)  # Go from logits -> pred labels\n",
    "\n",
    "        # 3. Optimizer zero grad\n",
    "        optimizer.zero_grad()\n",
    "\n",
    "        # 4. Loss backward\n",
    "        loss.backward()\n",
    "\n",
    "        # 5. Optimizer step\n",
    "        optimizer.step()\n",
    "\n",
    "    # Calculate loss and accuracy per epoch and print out what's happening\n",
    "    train_loss /= len(data_loader)\n",
    "    train_acc /= len(data_loader)\n",
    "    train_loss_accum.append(train_loss.item())\n",
    "    train_acc_accum.append(train_acc / 100.0)\n",
    "    print(f\"Train loss: {train_loss:.5f} | Train accuracy: {train_acc:.2f}%\")\n",
    "\n",
    "\n",
    "def test_step(data_loader: torch.utils.data.DataLoader,\n",
    "            model: torch.nn.Module,\n",
    "            loss_fn: torch.nn.Module,\n",
    "            accuracy_fn,\n",
    "            test_loss_accum: list,\n",
    "            test_acc_accum: list,\n",
    "            device: torch.device = device):\n",
    "    \n",
    "    test_loss, test_acc = 0, 0\n",
    "    model.to(device)\n",
    "    model.eval()  # put model in eval mode\n",
    "\n",
    "    # Turn on inference context manager\n",
    "    with torch.inference_mode():\n",
    "        for X, y in data_loader:\n",
    "            # Send data to GPU\n",
    "            X, y = X.to(device), y.to(device)\n",
    "            \n",
    "            # 1. Forward pass\n",
    "            test_logit = model(X)\n",
    "            test_proba = torch.softmax(test_logit, dim=1)\n",
    "            test_pred = test_proba.argmax(dim=1)\n",
    "            \n",
    "            # 2. Calculate loss and accuracy\n",
    "            test_loss += loss_fn(test_logit, y)\n",
    "            test_acc += accuracy_fn(y_true=y, y_pred=test_pred)  # Go from logits -> pred labels\n",
    "        \n",
    "        # Adjust metrics and print out\n",
    "        test_loss /= len(data_loader)\n",
    "        test_acc /= len(data_loader)\n",
    "        test_loss_accum.append(test_loss.item())\n",
    "        test_acc_accum.append(test_acc / 100.0)\n",
    "        print(f\"Test loss: {test_loss:.5f} | Test accuracy: {test_acc:.2f}%\\n\")"
   ]
  },
  {
   "cell_type": "code",
   "execution_count": 25,
   "metadata": {},
   "outputs": [],
   "source": [
    "def print_train_time(start: float, end: float, device: torch.device = None):\n",
    "    \"\"\"Prints difference between start and end time.\n",
    "\n",
    "    Args:\n",
    "        start (float): Start time of computation (preferred in timeit format). \n",
    "        end (float): End time of computation.\n",
    "        device ([type], optional): Device that compute is running on. Defaults to None.\n",
    "\n",
    "    Returns:\n",
    "        float: time between start and end in seconds (higher is longer).\n",
    "    \"\"\"\n",
    "    total_time = end - start\n",
    "    print(f\"Train time on {device}: {total_time:.3f} seconds\")\n",
    "    \n",
    "    return total_time"
   ]
  },
  {
   "cell_type": "code",
   "execution_count": 26,
   "metadata": {},
   "outputs": [
    {
     "data": {
      "application/vnd.jupyter.widget-view+json": {
       "model_id": "fd0c05faf3a04ad7ad9a043edcf6228f",
       "version_major": 2,
       "version_minor": 0
      },
      "text/plain": [
       "  0%|          | 0/20 [00:00<?, ?it/s]"
      ]
     },
     "metadata": {},
     "output_type": "display_data"
    },
    {
     "name": "stdout",
     "output_type": "stream",
     "text": [
      "Epoch: 0\n",
      "---------\n",
      "Train loss: 2.75727 | Train accuracy: 19.28%\n",
      "Test loss: 2.50945 | Test accuracy: 26.83%\n",
      "\n",
      "Epoch: 1\n",
      "---------\n",
      "Train loss: 2.73916 | Train accuracy: 19.65%\n",
      "Test loss: 2.37236 | Test accuracy: 29.88%\n",
      "\n",
      "Epoch: 2\n",
      "---------\n",
      "Train loss: 2.43071 | Train accuracy: 28.32%\n",
      "Test loss: 2.36556 | Test accuracy: 31.29%\n",
      "\n",
      "Epoch: 3\n",
      "---------\n",
      "Train loss: 2.22648 | Train accuracy: 33.73%\n",
      "Test loss: 2.08650 | Test accuracy: 37.68%\n",
      "\n",
      "Epoch: 4\n",
      "---------\n",
      "Train loss: 2.03075 | Train accuracy: 39.36%\n",
      "Test loss: 1.89946 | Test accuracy: 43.41%\n",
      "\n",
      "Epoch: 5\n",
      "---------\n",
      "Train loss: 1.84975 | Train accuracy: 44.96%\n",
      "Test loss: 1.86465 | Test accuracy: 43.58%\n",
      "\n",
      "Epoch: 6\n",
      "---------\n",
      "Train loss: 1.68556 | Train accuracy: 49.28%\n",
      "Test loss: 1.72423 | Test accuracy: 48.70%\n",
      "\n",
      "Epoch: 7\n",
      "---------\n",
      "Train loss: 1.55413 | Train accuracy: 53.25%\n",
      "Test loss: 1.52838 | Test accuracy: 53.45%\n",
      "\n",
      "Epoch: 8\n",
      "---------\n",
      "Train loss: 1.39056 | Train accuracy: 57.59%\n",
      "Test loss: 1.46862 | Test accuracy: 55.92%\n",
      "\n",
      "Epoch: 9\n",
      "---------\n",
      "Train loss: 1.24748 | Train accuracy: 61.92%\n",
      "Test loss: 1.52150 | Test accuracy: 55.58%\n",
      "\n",
      "EarlyStopping counter: 1/7\n",
      "Epoch: 10\n",
      "---------\n",
      "Train loss: 1.09679 | Train accuracy: 66.20%\n",
      "Test loss: 1.41875 | Test accuracy: 58.65%\n",
      "\n",
      "Epoch: 11\n",
      "---------\n",
      "Train loss: 0.95339 | Train accuracy: 70.36%\n",
      "Test loss: 1.45453 | Test accuracy: 57.95%\n",
      "\n",
      "EarlyStopping counter: 1/7\n",
      "Epoch: 12\n",
      "---------\n",
      "Train loss: 0.82460 | Train accuracy: 74.09%\n",
      "Test loss: 1.53398 | Test accuracy: 56.47%\n",
      "\n",
      "EarlyStopping counter: 2/7\n",
      "Epoch: 13\n",
      "---------\n",
      "Train loss: 0.68724 | Train accuracy: 78.50%\n",
      "Test loss: 1.57662 | Test accuracy: 58.22%\n",
      "\n",
      "Epoch 00014: reducing learning rate of group 0 to 1.0000e-05.\n",
      "EarlyStopping counter: 3/7\n",
      "Epoch: 14\n",
      "---------\n",
      "Train loss: 0.29788 | Train accuracy: 91.15%\n",
      "Test loss: 1.54584 | Test accuracy: 63.27%\n",
      "\n",
      "EarlyStopping counter: 4/7\n",
      "Epoch: 15\n",
      "---------\n",
      "Train loss: 0.21672 | Train accuracy: 93.61%\n",
      "Test loss: 1.69203 | Test accuracy: 62.68%\n",
      "\n",
      "EarlyStopping counter: 5/7\n",
      "Epoch: 16\n",
      "---------\n",
      "Train loss: 0.17371 | Train accuracy: 94.87%\n",
      "Test loss: 1.86087 | Test accuracy: 62.73%\n",
      "\n",
      "Epoch 00017: reducing learning rate of group 0 to 1.0000e-06.\n",
      "EarlyStopping counter: 6/7\n",
      "Epoch: 17\n",
      "---------\n",
      "Train loss: 0.12737 | Train accuracy: 96.60%\n",
      "Test loss: 1.88380 | Test accuracy: 63.05%\n",
      "\n",
      "EarlyStopping counter: 7/7\n",
      "Early stopping triggered!\n",
      "Stopping training early due to no improvement in test loss.\n",
      "Train time on cuda: 4215.070 seconds\n"
     ]
    }
   ],
   "source": [
    "# Measure time\n",
    "from tqdm.auto import tqdm  # type: ignore\n",
    "from timeit import default_timer as timer\n",
    "\n",
    "train_time_start_model = timer()\n",
    "\n",
    "model = ResNet18(num_classes=len(train_dataset.classes)).to(device=device)\n",
    "\n",
    "# Train and test model \n",
    "epochs = 20\n",
    "\n",
    "# List to store train and test loss, accuracy\n",
    "train_losses, train_accuracies = [], []\n",
    "test_losses, test_accuracies = [], []\n",
    "\n",
    "# Setup loss, optimizer, and learning rate scheduler\n",
    "loss_fn = nn.CrossEntropyLoss()\n",
    "optimizer = torch.optim.Adam(params=model.parameters(), betas=(0.9, 0.999), lr=0.0001)\n",
    "\n",
    "scheduler = torch.optim.lr_scheduler.ReduceLROnPlateau(optimizer, mode=\"min\", factor=0.1, patience=2, verbose=True)\n",
    "\n",
    "# Initialize EarlyStopping\n",
    "early_stopping = EarlyStopping(patience=7, verbose=True)\n",
    "\n",
    "for epoch in tqdm(range(epochs)):\n",
    "        print(f\"Epoch: {epoch}\\n---------\")\n",
    "        \n",
    "        train_step(data_loader=train_loader, \n",
    "                model=model, \n",
    "                loss_fn=loss_fn,\n",
    "                optimizer=optimizer,\n",
    "                accuracy_fn=accuracy_fn,\n",
    "                train_loss_accum=train_losses,\n",
    "                train_acc_accum=train_accuracies,\n",
    "                device=device\n",
    "                )\n",
    "        \n",
    "        test_step(data_loader=test_loader,\n",
    "                model=model,\n",
    "                loss_fn=loss_fn,\n",
    "                accuracy_fn=accuracy_fn,\n",
    "                test_loss_accum=test_losses,\n",
    "                test_acc_accum=test_accuracies,\n",
    "                device=device)\n",
    "        \n",
    "        # Update learning rate scheduler\n",
    "        scheduler.step(test_losses[-1])  # Use the latest test loss\n",
    "        \n",
    "        # Check for early stopping\n",
    "        early_stopping(val_loss=test_losses[-1])\n",
    "        if early_stopping.early_stop:\n",
    "                print(\"Stopping training early due to no improvement in test loss.\")\n",
    "                break\n",
    "\n",
    "train_time_end_model = timer()\n",
    "total_train_time_model = print_train_time(start=train_time_start_model,\n",
    "                                        end=train_time_end_model,\n",
    "                                        device=device)"
   ]
  },
  {
   "cell_type": "code",
   "execution_count": 27,
   "metadata": {},
   "outputs": [],
   "source": [
    "from utils import plot_training_history_updated"
   ]
  },
  {
   "cell_type": "code",
   "execution_count": 28,
   "metadata": {},
   "outputs": [
    {
     "data": {
      "image/png": "[encoded data removed]",
      "text/plain": [
       "<Figure size 1200x600 with 2 Axes>"
      ]
     },
     "metadata": {},
     "output_type": "display_data"
    }
   ],
   "source": [
    "plot_training_history_updated(\n",
    "    train_losses=train_losses,\n",
    "    train_accuracies=train_accuracies,\n",
    "    test_losses=test_losses,\n",
    "    test_accuracies=test_accuracies\n",
    ")"
   ]
  },
  {
   "cell_type": "code",
   "execution_count": null,
   "metadata": {},
   "outputs": [],
   "source": []
  }
 ],
 "metadata": {
  "kernelspec": {
   "display_name": "GenAI",
   "language": "python",
   "name": "python3"
  },
  "language_info": {
   "codemirror_mode": {
    "name": "ipython",
    "version": 3
   },
   "file_extension": ".py",
   "mimetype": "text/x-python",
   "name": "python",
   "nbconvert_exporter": "python",
   "pygments_lexer": "ipython3",
   "version": "3.11.0"
  }
 },
 "nbformat": 4,
 "nbformat_minor": 2
}
