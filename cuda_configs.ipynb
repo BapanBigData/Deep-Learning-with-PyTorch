{
 "cells": [
  {
   "cell_type": "code",
   "execution_count": 6,
   "metadata": {},
   "outputs": [
    {
     "name": "stdout",
     "output_type": "stream",
     "text": [
      "11.5.3\n"
     ]
    }
   ],
   "source": [
    "import pynvml\n",
    "print(pynvml.__version__)"
   ]
  },
  {
   "cell_type": "code",
   "execution_count": 12,
   "metadata": {},
   "outputs": [
    {
     "name": "stdout",
     "output_type": "stream",
     "text": [
      "GPU 0: NVIDIA GeForce GTX 1650\n",
      "Total Memory: 4096.0 MB\n",
      "Memory Used: 786.14453125 MB\n",
      "Memory Free: 3309.85546875 MB\n",
      "GPU Utilization: 1%\n",
      "Memory Utilization: 5%\n",
      "\n"
     ]
    }
   ],
   "source": [
    "import pynvml\n",
    "\n",
    "# Initialize NVML\n",
    "pynvml.nvmlInit()\n",
    "\n",
    "# Get the number of GPUs\n",
    "device_count = pynvml.nvmlDeviceGetCount()\n",
    "\n",
    "for i in range(device_count):\n",
    "    handle = pynvml.nvmlDeviceGetHandleByIndex(i)\n",
    "    name = pynvml.nvmlDeviceGetName(handle)  # Already a string, so no decode needed\n",
    "\n",
    "    # Retrieve memory information\n",
    "    memory_info = pynvml.nvmlDeviceGetMemoryInfo(handle)\n",
    "\n",
    "    # Retrieve utilization rates\n",
    "    utilization = pynvml.nvmlDeviceGetUtilizationRates(handle)\n",
    "\n",
    "    print(f\"GPU {i}: {name}\")\n",
    "    print(f\"Total Memory: {memory_info.total / (1024 ** 2)} MB\")\n",
    "    print(f\"Memory Used: {memory_info.used / (1024 ** 2)} MB\")\n",
    "    print(f\"Memory Free: {memory_info.free / (1024 ** 2)} MB\")\n",
    "    print(f\"GPU Utilization: {utilization.gpu}%\")\n",
    "    print(f\"Memory Utilization: {utilization.memory}%\")\n",
    "    \n",
    "    print()\n",
    "\n",
    "# Shutdown NVML\n",
    "pynvml.nvmlShutdown()"
   ]
  },
  {
   "cell_type": "code",
   "execution_count": 13,
   "metadata": {},
   "outputs": [
    {
     "name": "stdout",
     "output_type": "stream",
     "text": [
      "GPU 0: NVIDIA GeForce GTX 1650\n",
      "Streaming Multiprocessors (SMs): 14\n",
      "Cores per SM: 32\n",
      "Total GPU Cores: 448\n",
      "\n"
     ]
    }
   ],
   "source": [
    "import pynvml\n",
    "\n",
    "# Initialize NVML\n",
    "pynvml.nvmlInit()\n",
    "\n",
    "# Define the SM count for specific GPU models\n",
    "sm_counts = {\n",
    "    'NVIDIA GeForce GTX 1650': 14  # 14 SMs for GTX 1650\n",
    "}\n",
    "\n",
    "cores_per_sm = 32  # For NVIDIA GeForce GTX 1650\n",
    "\n",
    "# Get the number of GPUs\n",
    "device_count = pynvml.nvmlDeviceGetCount()\n",
    "\n",
    "for i in range(device_count):\n",
    "    handle = pynvml.nvmlDeviceGetHandleByIndex(i)\n",
    "    name = pynvml.nvmlDeviceGetName(handle).decode(\"utf-8\") if isinstance(name, bytes) else name\n",
    "    \n",
    "    # Retrieve the SM count from the dictionary\n",
    "    sm_count = sm_counts.get(name, None)\n",
    "    \n",
    "    if sm_count is not None:\n",
    "        total_cores = sm_count * cores_per_sm\n",
    "        print(f\"GPU {i}: {name}\")\n",
    "        print(f\"Streaming Multiprocessors (SMs): {sm_count}\")\n",
    "        print(f\"Cores per SM: {cores_per_sm}\")\n",
    "        print(f\"Total GPU Cores: {total_cores}\")\n",
    "    else:\n",
    "        print(f\"GPU {i}: {name} - SM count not available, please update manually.\")\n",
    "    \n",
    "    print()\n",
    "\n",
    "# Shutdown NVML\n",
    "pynvml.nvmlShutdown()"
   ]
  }
 ],
 "metadata": {
  "kernelspec": {
   "display_name": "GenAI",
   "language": "python",
   "name": "python3"
  },
  "language_info": {
   "codemirror_mode": {
    "name": "ipython",
    "version": 3
   },
   "file_extension": ".py",
   "mimetype": "text/x-python",
   "name": "python",
   "nbconvert_exporter": "python",
   "pygments_lexer": "ipython3",
   "version": "3.11.0"
  }
 },
 "nbformat": 4,
 "nbformat_minor": 2
}
